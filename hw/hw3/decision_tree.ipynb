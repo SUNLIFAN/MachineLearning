{
  "cells": [
    {
      "cell_type": "markdown",
      "id": "249400ef",
      "metadata": {
        "id": "249400ef"
      },
      "source": [
        "# 机器学习实验 - 决策树"
      ]
    },
    {
      "cell_type": "markdown",
      "id": "f1b9fd08",
      "metadata": {
        "id": "f1b9fd08"
      },
      "source": [
        "## Data Exploring"
      ]
    },
    {
      "cell_type": "code",
      "execution_count": 3,
      "id": "0a3d750c",
      "metadata": {
        "id": "0a3d750c"
      },
      "outputs": [],
      "source": [
        "import pandas as pd"
      ]
    },
    {
      "cell_type": "code",
      "source": [
        "from google.colab import drive\n",
        "drive.mount('/content/drive')"
      ],
      "metadata": {
        "colab": {
          "base_uri": "https://localhost:8080/"
        },
        "id": "Fsp6Gzk0BsiR",
        "outputId": "e33afa35-0f65-4cac-a73c-cc9a982bf184"
      },
      "id": "Fsp6Gzk0BsiR",
      "execution_count": 5,
      "outputs": [
        {
          "output_type": "stream",
          "name": "stdout",
          "text": [
            "Mounted at /content/drive\n"
          ]
        }
      ]
    },
    {
      "cell_type": "code",
      "execution_count": 6,
      "id": "d52f2579",
      "metadata": {
        "id": "d52f2579"
      },
      "outputs": [],
      "source": [
        "train_path = 'training.csv'\n",
        "test_path = 'testing.csv'\n",
        "valid_path = 'validation.csv'\n",
        "train_data = pd.read_csv(train_path)\n",
        "valid_data = pd.read_csv(valid_path)\n",
        "test_data = pd.read_csv(test_path)"
      ]
    },
    {
      "cell_type": "code",
      "execution_count": 7,
      "id": "ee005e35",
      "metadata": {
        "colab": {
          "base_uri": "https://localhost:8080/",
          "height": 300
        },
        "id": "ee005e35",
        "outputId": "a6f47cca-f41a-455a-b256-40a52333b123"
      },
      "outputs": [
        {
          "output_type": "execute_result",
          "data": {
            "text/plain": [
              "            recordId  usefulCount       rating\n",
              "count    6999.000000  6999.000000  6999.000000\n",
              "mean   117818.948564    28.189027     3.712102\n",
              "std     66920.098771    40.007725     1.556816\n",
              "min         6.000000     0.000000     1.000000\n",
              "25%     59038.000000     6.000000     2.000000\n",
              "50%    118973.000000    16.000000     4.000000\n",
              "75%    175369.000000    35.000000     5.000000\n",
              "max    232143.000000   949.000000     5.000000"
            ],
            "text/html": [
              "\n",
              "  <div id=\"df-31d20f40-9f3d-450d-a137-8189fd29cba9\">\n",
              "    <div class=\"colab-df-container\">\n",
              "      <div>\n",
              "<style scoped>\n",
              "    .dataframe tbody tr th:only-of-type {\n",
              "        vertical-align: middle;\n",
              "    }\n",
              "\n",
              "    .dataframe tbody tr th {\n",
              "        vertical-align: top;\n",
              "    }\n",
              "\n",
              "    .dataframe thead th {\n",
              "        text-align: right;\n",
              "    }\n",
              "</style>\n",
              "<table border=\"1\" class=\"dataframe\">\n",
              "  <thead>\n",
              "    <tr style=\"text-align: right;\">\n",
              "      <th></th>\n",
              "      <th>recordId</th>\n",
              "      <th>usefulCount</th>\n",
              "      <th>rating</th>\n",
              "    </tr>\n",
              "  </thead>\n",
              "  <tbody>\n",
              "    <tr>\n",
              "      <th>count</th>\n",
              "      <td>6999.000000</td>\n",
              "      <td>6999.000000</td>\n",
              "      <td>6999.000000</td>\n",
              "    </tr>\n",
              "    <tr>\n",
              "      <th>mean</th>\n",
              "      <td>117818.948564</td>\n",
              "      <td>28.189027</td>\n",
              "      <td>3.712102</td>\n",
              "    </tr>\n",
              "    <tr>\n",
              "      <th>std</th>\n",
              "      <td>66920.098771</td>\n",
              "      <td>40.007725</td>\n",
              "      <td>1.556816</td>\n",
              "    </tr>\n",
              "    <tr>\n",
              "      <th>min</th>\n",
              "      <td>6.000000</td>\n",
              "      <td>0.000000</td>\n",
              "      <td>1.000000</td>\n",
              "    </tr>\n",
              "    <tr>\n",
              "      <th>25%</th>\n",
              "      <td>59038.000000</td>\n",
              "      <td>6.000000</td>\n",
              "      <td>2.000000</td>\n",
              "    </tr>\n",
              "    <tr>\n",
              "      <th>50%</th>\n",
              "      <td>118973.000000</td>\n",
              "      <td>16.000000</td>\n",
              "      <td>4.000000</td>\n",
              "    </tr>\n",
              "    <tr>\n",
              "      <th>75%</th>\n",
              "      <td>175369.000000</td>\n",
              "      <td>35.000000</td>\n",
              "      <td>5.000000</td>\n",
              "    </tr>\n",
              "    <tr>\n",
              "      <th>max</th>\n",
              "      <td>232143.000000</td>\n",
              "      <td>949.000000</td>\n",
              "      <td>5.000000</td>\n",
              "    </tr>\n",
              "  </tbody>\n",
              "</table>\n",
              "</div>\n",
              "      <button class=\"colab-df-convert\" onclick=\"convertToInteractive('df-31d20f40-9f3d-450d-a137-8189fd29cba9')\"\n",
              "              title=\"Convert this dataframe to an interactive table.\"\n",
              "              style=\"display:none;\">\n",
              "        \n",
              "  <svg xmlns=\"http://www.w3.org/2000/svg\" height=\"24px\"viewBox=\"0 0 24 24\"\n",
              "       width=\"24px\">\n",
              "    <path d=\"M0 0h24v24H0V0z\" fill=\"none\"/>\n",
              "    <path d=\"M18.56 5.44l.94 2.06.94-2.06 2.06-.94-2.06-.94-.94-2.06-.94 2.06-2.06.94zm-11 1L8.5 8.5l.94-2.06 2.06-.94-2.06-.94L8.5 2.5l-.94 2.06-2.06.94zm10 10l.94 2.06.94-2.06 2.06-.94-2.06-.94-.94-2.06-.94 2.06-2.06.94z\"/><path d=\"M17.41 7.96l-1.37-1.37c-.4-.4-.92-.59-1.43-.59-.52 0-1.04.2-1.43.59L10.3 9.45l-7.72 7.72c-.78.78-.78 2.05 0 2.83L4 21.41c.39.39.9.59 1.41.59.51 0 1.02-.2 1.41-.59l7.78-7.78 2.81-2.81c.8-.78.8-2.07 0-2.86zM5.41 20L4 18.59l7.72-7.72 1.47 1.35L5.41 20z\"/>\n",
              "  </svg>\n",
              "      </button>\n",
              "      \n",
              "  <style>\n",
              "    .colab-df-container {\n",
              "      display:flex;\n",
              "      flex-wrap:wrap;\n",
              "      gap: 12px;\n",
              "    }\n",
              "\n",
              "    .colab-df-convert {\n",
              "      background-color: #E8F0FE;\n",
              "      border: none;\n",
              "      border-radius: 50%;\n",
              "      cursor: pointer;\n",
              "      display: none;\n",
              "      fill: #1967D2;\n",
              "      height: 32px;\n",
              "      padding: 0 0 0 0;\n",
              "      width: 32px;\n",
              "    }\n",
              "\n",
              "    .colab-df-convert:hover {\n",
              "      background-color: #E2EBFA;\n",
              "      box-shadow: 0px 1px 2px rgba(60, 64, 67, 0.3), 0px 1px 3px 1px rgba(60, 64, 67, 0.15);\n",
              "      fill: #174EA6;\n",
              "    }\n",
              "\n",
              "    [theme=dark] .colab-df-convert {\n",
              "      background-color: #3B4455;\n",
              "      fill: #D2E3FC;\n",
              "    }\n",
              "\n",
              "    [theme=dark] .colab-df-convert:hover {\n",
              "      background-color: #434B5C;\n",
              "      box-shadow: 0px 1px 3px 1px rgba(0, 0, 0, 0.15);\n",
              "      filter: drop-shadow(0px 1px 2px rgba(0, 0, 0, 0.3));\n",
              "      fill: #FFFFFF;\n",
              "    }\n",
              "  </style>\n",
              "\n",
              "      <script>\n",
              "        const buttonEl =\n",
              "          document.querySelector('#df-31d20f40-9f3d-450d-a137-8189fd29cba9 button.colab-df-convert');\n",
              "        buttonEl.style.display =\n",
              "          google.colab.kernel.accessAllowed ? 'block' : 'none';\n",
              "\n",
              "        async function convertToInteractive(key) {\n",
              "          const element = document.querySelector('#df-31d20f40-9f3d-450d-a137-8189fd29cba9');\n",
              "          const dataTable =\n",
              "            await google.colab.kernel.invokeFunction('convertToInteractive',\n",
              "                                                     [key], {});\n",
              "          if (!dataTable) return;\n",
              "\n",
              "          const docLinkHtml = 'Like what you see? Visit the ' +\n",
              "            '<a target=\"_blank\" href=https://colab.research.google.com/notebooks/data_table.ipynb>data table notebook</a>'\n",
              "            + ' to learn more about interactive tables.';\n",
              "          element.innerHTML = '';\n",
              "          dataTable['output_type'] = 'display_data';\n",
              "          await google.colab.output.renderOutput(dataTable, element);\n",
              "          const docLink = document.createElement('div');\n",
              "          docLink.innerHTML = docLinkHtml;\n",
              "          element.appendChild(docLink);\n",
              "        }\n",
              "      </script>\n",
              "    </div>\n",
              "  </div>\n",
              "  "
            ]
          },
          "metadata": {},
          "execution_count": 7
        }
      ],
      "source": [
        "train_data.describe()"
      ]
    },
    {
      "cell_type": "code",
      "execution_count": 8,
      "id": "82e70532",
      "metadata": {
        "colab": {
          "base_uri": "https://localhost:8080/",
          "height": 423
        },
        "id": "82e70532",
        "outputId": "45031d09-3e19-4ae4-9326-c6eedbf60029"
      },
      "outputs": [
        {
          "output_type": "execute_result",
          "data": {
            "text/plain": [
              "   recordId         drugName                     condition  \\\n",
              "0    163740      Mirtazapine                    Depression   \n",
              "1    206473       Mesalamine  Crohn's Disease, Maintenance   \n",
              "2    159672          Bactrim       Urinary Tract Infection   \n",
              "3     39293         Contrave                   Weight Loss   \n",
              "4     97768  Cyclafem 1 / 35                 Birth Control   \n",
              "\n",
              "                                       reviewComment                date  \\\n",
              "0  \"I&#039;ve tried a few antidepressants over th...   February 28, 2012   \n",
              "1  \"My son has Crohn&#039;s disease and has done ...        May 17, 2009   \n",
              "2                      \"Quick reduction of symptoms\"  September 29, 2017   \n",
              "3  \"Contrave combines drugs that were used for al...       March 5, 2017   \n",
              "4  \"I have been on this birth control for one cyc...    October 22, 2015   \n",
              "\n",
              "   usefulCount          sideEffects  rating  \n",
              "0           22    Mild Side Effects       5  \n",
              "1           17  Severe Side Effects       4  \n",
              "2            3      No Side Effects       5  \n",
              "3           35    Mild Side Effects       5  \n",
              "4            4  Severe Side Effects       5  "
            ],
            "text/html": [
              "\n",
              "  <div id=\"df-c0b72bf3-e0f0-47ea-8d88-da660db6a1cd\">\n",
              "    <div class=\"colab-df-container\">\n",
              "      <div>\n",
              "<style scoped>\n",
              "    .dataframe tbody tr th:only-of-type {\n",
              "        vertical-align: middle;\n",
              "    }\n",
              "\n",
              "    .dataframe tbody tr th {\n",
              "        vertical-align: top;\n",
              "    }\n",
              "\n",
              "    .dataframe thead th {\n",
              "        text-align: right;\n",
              "    }\n",
              "</style>\n",
              "<table border=\"1\" class=\"dataframe\">\n",
              "  <thead>\n",
              "    <tr style=\"text-align: right;\">\n",
              "      <th></th>\n",
              "      <th>recordId</th>\n",
              "      <th>drugName</th>\n",
              "      <th>condition</th>\n",
              "      <th>reviewComment</th>\n",
              "      <th>date</th>\n",
              "      <th>usefulCount</th>\n",
              "      <th>sideEffects</th>\n",
              "      <th>rating</th>\n",
              "    </tr>\n",
              "  </thead>\n",
              "  <tbody>\n",
              "    <tr>\n",
              "      <th>0</th>\n",
              "      <td>163740</td>\n",
              "      <td>Mirtazapine</td>\n",
              "      <td>Depression</td>\n",
              "      <td>\"I&amp;#039;ve tried a few antidepressants over th...</td>\n",
              "      <td>February 28, 2012</td>\n",
              "      <td>22</td>\n",
              "      <td>Mild Side Effects</td>\n",
              "      <td>5</td>\n",
              "    </tr>\n",
              "    <tr>\n",
              "      <th>1</th>\n",
              "      <td>206473</td>\n",
              "      <td>Mesalamine</td>\n",
              "      <td>Crohn's Disease, Maintenance</td>\n",
              "      <td>\"My son has Crohn&amp;#039;s disease and has done ...</td>\n",
              "      <td>May 17, 2009</td>\n",
              "      <td>17</td>\n",
              "      <td>Severe Side Effects</td>\n",
              "      <td>4</td>\n",
              "    </tr>\n",
              "    <tr>\n",
              "      <th>2</th>\n",
              "      <td>159672</td>\n",
              "      <td>Bactrim</td>\n",
              "      <td>Urinary Tract Infection</td>\n",
              "      <td>\"Quick reduction of symptoms\"</td>\n",
              "      <td>September 29, 2017</td>\n",
              "      <td>3</td>\n",
              "      <td>No Side Effects</td>\n",
              "      <td>5</td>\n",
              "    </tr>\n",
              "    <tr>\n",
              "      <th>3</th>\n",
              "      <td>39293</td>\n",
              "      <td>Contrave</td>\n",
              "      <td>Weight Loss</td>\n",
              "      <td>\"Contrave combines drugs that were used for al...</td>\n",
              "      <td>March 5, 2017</td>\n",
              "      <td>35</td>\n",
              "      <td>Mild Side Effects</td>\n",
              "      <td>5</td>\n",
              "    </tr>\n",
              "    <tr>\n",
              "      <th>4</th>\n",
              "      <td>97768</td>\n",
              "      <td>Cyclafem 1 / 35</td>\n",
              "      <td>Birth Control</td>\n",
              "      <td>\"I have been on this birth control for one cyc...</td>\n",
              "      <td>October 22, 2015</td>\n",
              "      <td>4</td>\n",
              "      <td>Severe Side Effects</td>\n",
              "      <td>5</td>\n",
              "    </tr>\n",
              "  </tbody>\n",
              "</table>\n",
              "</div>\n",
              "      <button class=\"colab-df-convert\" onclick=\"convertToInteractive('df-c0b72bf3-e0f0-47ea-8d88-da660db6a1cd')\"\n",
              "              title=\"Convert this dataframe to an interactive table.\"\n",
              "              style=\"display:none;\">\n",
              "        \n",
              "  <svg xmlns=\"http://www.w3.org/2000/svg\" height=\"24px\"viewBox=\"0 0 24 24\"\n",
              "       width=\"24px\">\n",
              "    <path d=\"M0 0h24v24H0V0z\" fill=\"none\"/>\n",
              "    <path d=\"M18.56 5.44l.94 2.06.94-2.06 2.06-.94-2.06-.94-.94-2.06-.94 2.06-2.06.94zm-11 1L8.5 8.5l.94-2.06 2.06-.94-2.06-.94L8.5 2.5l-.94 2.06-2.06.94zm10 10l.94 2.06.94-2.06 2.06-.94-2.06-.94-.94-2.06-.94 2.06-2.06.94z\"/><path d=\"M17.41 7.96l-1.37-1.37c-.4-.4-.92-.59-1.43-.59-.52 0-1.04.2-1.43.59L10.3 9.45l-7.72 7.72c-.78.78-.78 2.05 0 2.83L4 21.41c.39.39.9.59 1.41.59.51 0 1.02-.2 1.41-.59l7.78-7.78 2.81-2.81c.8-.78.8-2.07 0-2.86zM5.41 20L4 18.59l7.72-7.72 1.47 1.35L5.41 20z\"/>\n",
              "  </svg>\n",
              "      </button>\n",
              "      \n",
              "  <style>\n",
              "    .colab-df-container {\n",
              "      display:flex;\n",
              "      flex-wrap:wrap;\n",
              "      gap: 12px;\n",
              "    }\n",
              "\n",
              "    .colab-df-convert {\n",
              "      background-color: #E8F0FE;\n",
              "      border: none;\n",
              "      border-radius: 50%;\n",
              "      cursor: pointer;\n",
              "      display: none;\n",
              "      fill: #1967D2;\n",
              "      height: 32px;\n",
              "      padding: 0 0 0 0;\n",
              "      width: 32px;\n",
              "    }\n",
              "\n",
              "    .colab-df-convert:hover {\n",
              "      background-color: #E2EBFA;\n",
              "      box-shadow: 0px 1px 2px rgba(60, 64, 67, 0.3), 0px 1px 3px 1px rgba(60, 64, 67, 0.15);\n",
              "      fill: #174EA6;\n",
              "    }\n",
              "\n",
              "    [theme=dark] .colab-df-convert {\n",
              "      background-color: #3B4455;\n",
              "      fill: #D2E3FC;\n",
              "    }\n",
              "\n",
              "    [theme=dark] .colab-df-convert:hover {\n",
              "      background-color: #434B5C;\n",
              "      box-shadow: 0px 1px 3px 1px rgba(0, 0, 0, 0.15);\n",
              "      filter: drop-shadow(0px 1px 2px rgba(0, 0, 0, 0.3));\n",
              "      fill: #FFFFFF;\n",
              "    }\n",
              "  </style>\n",
              "\n",
              "      <script>\n",
              "        const buttonEl =\n",
              "          document.querySelector('#df-c0b72bf3-e0f0-47ea-8d88-da660db6a1cd button.colab-df-convert');\n",
              "        buttonEl.style.display =\n",
              "          google.colab.kernel.accessAllowed ? 'block' : 'none';\n",
              "\n",
              "        async function convertToInteractive(key) {\n",
              "          const element = document.querySelector('#df-c0b72bf3-e0f0-47ea-8d88-da660db6a1cd');\n",
              "          const dataTable =\n",
              "            await google.colab.kernel.invokeFunction('convertToInteractive',\n",
              "                                                     [key], {});\n",
              "          if (!dataTable) return;\n",
              "\n",
              "          const docLinkHtml = 'Like what you see? Visit the ' +\n",
              "            '<a target=\"_blank\" href=https://colab.research.google.com/notebooks/data_table.ipynb>data table notebook</a>'\n",
              "            + ' to learn more about interactive tables.';\n",
              "          element.innerHTML = '';\n",
              "          dataTable['output_type'] = 'display_data';\n",
              "          await google.colab.output.renderOutput(dataTable, element);\n",
              "          const docLink = document.createElement('div');\n",
              "          docLink.innerHTML = docLinkHtml;\n",
              "          element.appendChild(docLink);\n",
              "        }\n",
              "      </script>\n",
              "    </div>\n",
              "  </div>\n",
              "  "
            ]
          },
          "metadata": {},
          "execution_count": 8
        }
      ],
      "source": [
        "train_data.head()"
      ]
    },
    {
      "cell_type": "code",
      "execution_count": 9,
      "id": "c66e6443",
      "metadata": {
        "colab": {
          "base_uri": "https://localhost:8080/"
        },
        "id": "c66e6443",
        "outputId": "d65f9707-a9d9-4cc9-c3e9-d3da28442577"
      },
      "outputs": [
        {
          "output_type": "execute_result",
          "data": {
            "text/plain": [
              "Mild Side Effects                2319\n",
              "No Side Effects                  2080\n",
              "Moderate Side Effects            1376\n",
              "Severe Side Effects               835\n",
              "Extremely Severe Side Effects     389\n",
              "Name: sideEffects, dtype: int64"
            ]
          },
          "metadata": {},
          "execution_count": 9
        }
      ],
      "source": [
        "train_data['sideEffects'].value_counts()"
      ]
    },
    {
      "cell_type": "code",
      "execution_count": 10,
      "id": "acd818dd",
      "metadata": {
        "id": "acd818dd"
      },
      "outputs": [],
      "source": [
        "severeness = {'No Side Effects': 0, \n",
        "              'Mild Side Effects': 1, \n",
        "              'Moderate Side Effects': 2,\n",
        "             'Severe Side Effects': 3,\n",
        "             'Extremely Severe Side Effects': 4\n",
        "             }"
      ]
    },
    {
      "cell_type": "code",
      "execution_count": 11,
      "id": "d5e275d4",
      "metadata": {
        "colab": {
          "base_uri": "https://localhost:8080/"
        },
        "id": "d5e275d4",
        "outputId": "32924eb7-837c-4e9d-cc61-de1c75cf20dc"
      },
      "outputs": [
        {
          "output_type": "execute_result",
          "data": {
            "text/plain": [
              "Birth Control                           1265\n",
              "Depression                               427\n",
              "Pain                                     270\n",
              "Anxiety                                  248\n",
              "Acne                                     234\n",
              "                                        ... \n",
              "Condylomata Acuminata                      1\n",
              "Organ Transplant, Rejection Reversal       1\n",
              "Otitis Externa                             1\n",
              "Oral Thrush                                1\n",
              "Diagnosis and Investigation                1\n",
              "Name: condition, Length: 408, dtype: int64"
            ]
          },
          "metadata": {},
          "execution_count": 11
        }
      ],
      "source": [
        "train_data['condition'].value_counts()"
      ]
    },
    {
      "cell_type": "code",
      "execution_count": 12,
      "id": "56e7da64",
      "metadata": {
        "colab": {
          "base_uri": "https://localhost:8080/"
        },
        "id": "56e7da64",
        "outputId": "d09b41ac-ebcb-4c98-feaa-6a2638bcdc5f"
      },
      "outputs": [
        {
          "output_type": "execute_result",
          "data": {
            "text/plain": [
              "Levonorgestrel                        174\n",
              "Etonogestrel                          145\n",
              "Ethinyl estradiol / norethindrone     102\n",
              "Ethinyl estradiol / levonorgestrel     86\n",
              "Nexplanon                              82\n",
              "                                     ... \n",
              "Patanase                                1\n",
              "Ibrance                                 1\n",
              "Levalbuterol                            1\n",
              "Eptifibatide                            1\n",
              "Telaprevir                              1\n",
              "Name: drugName, Length: 1300, dtype: int64"
            ]
          },
          "metadata": {},
          "execution_count": 12
        }
      ],
      "source": [
        "train_data['drugName'].value_counts()"
      ]
    },
    {
      "cell_type": "code",
      "execution_count": 13,
      "id": "81597ec5",
      "metadata": {
        "colab": {
          "base_uri": "https://localhost:8080/"
        },
        "id": "81597ec5",
        "outputId": "f2bd31d6-58fc-42ca-eead-bc5ae3aa090e"
      },
      "outputs": [
        {
          "output_type": "execute_result",
          "data": {
            "text/plain": [
              "April 11, 2017        15\n",
              "March 31, 2016        12\n",
              "December 2, 2016      12\n",
              "February 17, 2016     11\n",
              "July 23, 2015         11\n",
              "                      ..\n",
              "March 25, 2011         1\n",
              "December 30, 2010      1\n",
              "October 31, 2008       1\n",
              "September 13, 2016     1\n",
              "August 5, 2010         1\n",
              "Name: date, Length: 2737, dtype: int64"
            ]
          },
          "metadata": {},
          "execution_count": 13
        }
      ],
      "source": [
        " train_data['date'].value_counts()"
      ]
    },
    {
      "cell_type": "markdown",
      "id": "f8b7d9ae",
      "metadata": {
        "id": "f8b7d9ae"
      },
      "source": [
        "根据领域知识，我认为对于药的评分应该是和名称、评价日期无关的，因此这两个特征直接去除。"
      ]
    },
    {
      "cell_type": "markdown",
      "source": [
        "## 预处理函数"
      ],
      "metadata": {
        "id": "Q3WcJ5Dj1ozx"
      },
      "id": "Q3WcJ5Dj1ozx"
    },
    {
      "cell_type": "markdown",
      "source": [
        "这里我先根据领域知识去掉了一些列，在剩下的列中，sideEffects 和 reviewComment 都是文本类型，都需要转换成数值化，这里我将副作用按照从轻到重严重程度从 1 排到 5，对于 reviewComment 则用情感分析，映射为 1 和 0，分别对应积极和消极。"
      ],
      "metadata": {
        "id": "oRLYRHkf1q0n"
      },
      "id": "oRLYRHkf1q0n"
    },
    {
      "cell_type": "code",
      "source": [
        "!pip install transformers\n",
        "import transformers\n",
        "from transformers import pipeline"
      ],
      "metadata": {
        "colab": {
          "base_uri": "https://localhost:8080/"
        },
        "id": "CDR4ZqqvCKGR",
        "outputId": "c2f604f5-99d0-4a67-c996-58592cedfa48"
      },
      "id": "CDR4ZqqvCKGR",
      "execution_count": 2,
      "outputs": [
        {
          "output_type": "stream",
          "name": "stdout",
          "text": [
            "Looking in indexes: https://pypi.org/simple, https://us-python.pkg.dev/colab-wheels/public/simple/\n",
            "Collecting transformers\n",
            "  Downloading transformers-4.27.4-py3-none-any.whl (6.8 MB)\n",
            "\u001b[2K     \u001b[90m━━━━━━━━━━━━━━━━━━━━━━━━━━━━━━━━━━━━━━━━\u001b[0m \u001b[32m6.8/6.8 MB\u001b[0m \u001b[31m66.1 MB/s\u001b[0m eta \u001b[36m0:00:00\u001b[0m\n",
            "\u001b[?25hRequirement already satisfied: numpy>=1.17 in /usr/local/lib/python3.9/dist-packages (from transformers) (1.22.4)\n",
            "Requirement already satisfied: requests in /usr/local/lib/python3.9/dist-packages (from transformers) (2.27.1)\n",
            "Requirement already satisfied: tqdm>=4.27 in /usr/local/lib/python3.9/dist-packages (from transformers) (4.65.0)\n",
            "Collecting tokenizers!=0.11.3,<0.14,>=0.11.1\n",
            "  Downloading tokenizers-0.13.2-cp39-cp39-manylinux_2_17_x86_64.manylinux2014_x86_64.whl (7.6 MB)\n",
            "\u001b[2K     \u001b[90m━━━━━━━━━━━━━━━━━━━━━━━━━━━━━━━━━━━━━━━━\u001b[0m \u001b[32m7.6/7.6 MB\u001b[0m \u001b[31m104.2 MB/s\u001b[0m eta \u001b[36m0:00:00\u001b[0m\n",
            "\u001b[?25hCollecting huggingface-hub<1.0,>=0.11.0\n",
            "  Downloading huggingface_hub-0.13.3-py3-none-any.whl (199 kB)\n",
            "\u001b[2K     \u001b[90m━━━━━━━━━━━━━━━━━━━━━━━━━━━━━━━━━━━━━━\u001b[0m \u001b[32m199.8/199.8 KB\u001b[0m \u001b[31m27.6 MB/s\u001b[0m eta \u001b[36m0:00:00\u001b[0m\n",
            "\u001b[?25hRequirement already satisfied: filelock in /usr/local/lib/python3.9/dist-packages (from transformers) (3.10.7)\n",
            "Requirement already satisfied: regex!=2019.12.17 in /usr/local/lib/python3.9/dist-packages (from transformers) (2022.10.31)\n",
            "Requirement already satisfied: pyyaml>=5.1 in /usr/local/lib/python3.9/dist-packages (from transformers) (6.0)\n",
            "Requirement already satisfied: packaging>=20.0 in /usr/local/lib/python3.9/dist-packages (from transformers) (23.0)\n",
            "Requirement already satisfied: typing-extensions>=3.7.4.3 in /usr/local/lib/python3.9/dist-packages (from huggingface-hub<1.0,>=0.11.0->transformers) (4.5.0)\n",
            "Requirement already satisfied: charset-normalizer~=2.0.0 in /usr/local/lib/python3.9/dist-packages (from requests->transformers) (2.0.12)\n",
            "Requirement already satisfied: idna<4,>=2.5 in /usr/local/lib/python3.9/dist-packages (from requests->transformers) (3.4)\n",
            "Requirement already satisfied: certifi>=2017.4.17 in /usr/local/lib/python3.9/dist-packages (from requests->transformers) (2022.12.7)\n",
            "Requirement already satisfied: urllib3<1.27,>=1.21.1 in /usr/local/lib/python3.9/dist-packages (from requests->transformers) (1.26.15)\n",
            "Installing collected packages: tokenizers, huggingface-hub, transformers\n",
            "Successfully installed huggingface-hub-0.13.3 tokenizers-0.13.2 transformers-4.27.4\n"
          ]
        }
      ]
    },
    {
      "cell_type": "code",
      "source": [
        "model = pipeline('sentiment-analysis', device=0)"
      ],
      "metadata": {
        "colab": {
          "base_uri": "https://localhost:8080/"
        },
        "id": "3QeDbh84CY1n",
        "outputId": "8bda1f8e-a0dd-4c29-900a-c947b629bcb1"
      },
      "id": "3QeDbh84CY1n",
      "execution_count": 15,
      "outputs": [
        {
          "output_type": "stream",
          "name": "stderr",
          "text": [
            "No model was supplied, defaulted to distilbert-base-uncased-finetuned-sst-2-english and revision af0f99b (https://huggingface.co/distilbert-base-uncased-finetuned-sst-2-english).\n",
            "Using a pipeline without specifying a model name and revision in production is not recommended.\n"
          ]
        }
      ]
    },
    {
      "cell_type": "code",
      "source": [
        "model"
      ],
      "metadata": {
        "colab": {
          "base_uri": "https://localhost:8080/"
        },
        "id": "n3ntE_B8nruz",
        "outputId": "e97f0437-1a9c-4e3d-9ae9-9b9828ebc804"
      },
      "id": "n3ntE_B8nruz",
      "execution_count": 17,
      "outputs": [
        {
          "output_type": "execute_result",
          "data": {
            "text/plain": [
              "<transformers.pipelines.text_classification.TextClassificationPipeline at 0x7f81017dae50>"
            ]
          },
          "metadata": {},
          "execution_count": 17
        }
      ]
    },
    {
      "cell_type": "code",
      "source": [
        "def classify_sentiment(comment):\n",
        "  result = model(comment)[0]['label']\n",
        "  if result == 'POSITIVE':\n",
        "    return 1\n",
        "  else:\n",
        "    return 0"
      ],
      "metadata": {
        "id": "ScZL9cF8CgG6"
      },
      "id": "ScZL9cF8CgG6",
      "execution_count": 20,
      "outputs": []
    },
    {
      "cell_type": "code",
      "source": [
        "import numpy as np"
      ],
      "metadata": {
        "id": "CQj2qqphFEju"
      },
      "id": "CQj2qqphFEju",
      "execution_count": 19,
      "outputs": []
    },
    {
      "cell_type": "code",
      "source": [
        "def severeness_encoding(s):\n",
        "  s = severeness[s]\n",
        "  return s"
      ],
      "metadata": {
        "id": "gGIdW2G3K9Yu"
      },
      "id": "gGIdW2G3K9Yu",
      "execution_count": 44,
      "outputs": []
    },
    {
      "cell_type": "markdown",
      "source": [
        "## 对训练数据进行预处理"
      ],
      "metadata": {
        "id": "wl63E8T91kqw"
      },
      "id": "wl63E8T91kqw"
    },
    {
      "cell_type": "code",
      "source": [
        "# reviewComment, usefulCount, sideEffects\n",
        "features = ['reviewComment', 'usefulCount', 'sideEffects']"
      ],
      "metadata": {
        "id": "ISpaRZZXTly3"
      },
      "id": "ISpaRZZXTly3",
      "execution_count": 23,
      "outputs": []
    },
    {
      "cell_type": "code",
      "source": [
        "X_train = train_data[features]\n",
        "y_train = train_data['rating']"
      ],
      "metadata": {
        "id": "-E16bfmsUZcD"
      },
      "id": "-E16bfmsUZcD",
      "execution_count": 41,
      "outputs": []
    },
    {
      "cell_type": "code",
      "source": [
        "def truncate(text):\n",
        "  if len(text) > 512:\n",
        "    text = text[0:512]\n",
        "  return text"
      ],
      "metadata": {
        "id": "WMcZWb3mVTic"
      },
      "id": "WMcZWb3mVTic",
      "execution_count": 26,
      "outputs": []
    },
    {
      "cell_type": "code",
      "source": [
        "X_train['reviewComment'] = X_train['reviewComment'].apply(lambda x : classify_sentiment(truncate(x)))"
      ],
      "metadata": {
        "colab": {
          "base_uri": "https://localhost:8080/"
        },
        "id": "I00lRxiXUk7g",
        "outputId": "81f04e51-0318-4a76-8994-04291b11be05"
      },
      "id": "I00lRxiXUk7g",
      "execution_count": 42,
      "outputs": [
        {
          "output_type": "stream",
          "name": "stderr",
          "text": [
            "/usr/local/lib/python3.9/dist-packages/transformers/pipelines/base.py:1070: UserWarning: You seem to be using the pipelines sequentially on GPU. In order to maximize efficiency please use a dataset\n",
            "  warnings.warn(\n",
            "<ipython-input-42-fae542410fd8>:1: SettingWithCopyWarning: \n",
            "A value is trying to be set on a copy of a slice from a DataFrame.\n",
            "Try using .loc[row_indexer,col_indexer] = value instead\n",
            "\n",
            "See the caveats in the documentation: https://pandas.pydata.org/pandas-docs/stable/user_guide/indexing.html#returning-a-view-versus-a-copy\n",
            "  X_train['reviewComment'] = X_train['reviewComment'].apply(lambda x : classify_sentiment(truncate(x)))\n"
          ]
        }
      ]
    },
    {
      "cell_type": "code",
      "source": [
        "X_train"
      ],
      "metadata": {
        "id": "UopGV-aJbu_0",
        "colab": {
          "base_uri": "https://localhost:8080/",
          "height": 423
        },
        "outputId": "fdeb39be-3a7d-4257-ceea-cfc6be8ebd36"
      },
      "id": "UopGV-aJbu_0",
      "execution_count": 45,
      "outputs": [
        {
          "output_type": "execute_result",
          "data": {
            "text/plain": [
              "      reviewComment  usefulCount          sideEffects\n",
              "0                 0           22    Mild Side Effects\n",
              "1                 1           17  Severe Side Effects\n",
              "2                 0            3      No Side Effects\n",
              "3                 0           35    Mild Side Effects\n",
              "4                 1            4  Severe Side Effects\n",
              "...             ...          ...                  ...\n",
              "6994              1           11    Mild Side Effects\n",
              "6995              0            0      No Side Effects\n",
              "6996              0           79    Mild Side Effects\n",
              "6997              0            1      No Side Effects\n",
              "6998              0            2      No Side Effects\n",
              "\n",
              "[6999 rows x 3 columns]"
            ],
            "text/html": [
              "\n",
              "  <div id=\"df-29e3885d-b9f1-4b14-862a-e22204ea3664\">\n",
              "    <div class=\"colab-df-container\">\n",
              "      <div>\n",
              "<style scoped>\n",
              "    .dataframe tbody tr th:only-of-type {\n",
              "        vertical-align: middle;\n",
              "    }\n",
              "\n",
              "    .dataframe tbody tr th {\n",
              "        vertical-align: top;\n",
              "    }\n",
              "\n",
              "    .dataframe thead th {\n",
              "        text-align: right;\n",
              "    }\n",
              "</style>\n",
              "<table border=\"1\" class=\"dataframe\">\n",
              "  <thead>\n",
              "    <tr style=\"text-align: right;\">\n",
              "      <th></th>\n",
              "      <th>reviewComment</th>\n",
              "      <th>usefulCount</th>\n",
              "      <th>sideEffects</th>\n",
              "    </tr>\n",
              "  </thead>\n",
              "  <tbody>\n",
              "    <tr>\n",
              "      <th>0</th>\n",
              "      <td>0</td>\n",
              "      <td>22</td>\n",
              "      <td>Mild Side Effects</td>\n",
              "    </tr>\n",
              "    <tr>\n",
              "      <th>1</th>\n",
              "      <td>1</td>\n",
              "      <td>17</td>\n",
              "      <td>Severe Side Effects</td>\n",
              "    </tr>\n",
              "    <tr>\n",
              "      <th>2</th>\n",
              "      <td>0</td>\n",
              "      <td>3</td>\n",
              "      <td>No Side Effects</td>\n",
              "    </tr>\n",
              "    <tr>\n",
              "      <th>3</th>\n",
              "      <td>0</td>\n",
              "      <td>35</td>\n",
              "      <td>Mild Side Effects</td>\n",
              "    </tr>\n",
              "    <tr>\n",
              "      <th>4</th>\n",
              "      <td>1</td>\n",
              "      <td>4</td>\n",
              "      <td>Severe Side Effects</td>\n",
              "    </tr>\n",
              "    <tr>\n",
              "      <th>...</th>\n",
              "      <td>...</td>\n",
              "      <td>...</td>\n",
              "      <td>...</td>\n",
              "    </tr>\n",
              "    <tr>\n",
              "      <th>6994</th>\n",
              "      <td>1</td>\n",
              "      <td>11</td>\n",
              "      <td>Mild Side Effects</td>\n",
              "    </tr>\n",
              "    <tr>\n",
              "      <th>6995</th>\n",
              "      <td>0</td>\n",
              "      <td>0</td>\n",
              "      <td>No Side Effects</td>\n",
              "    </tr>\n",
              "    <tr>\n",
              "      <th>6996</th>\n",
              "      <td>0</td>\n",
              "      <td>79</td>\n",
              "      <td>Mild Side Effects</td>\n",
              "    </tr>\n",
              "    <tr>\n",
              "      <th>6997</th>\n",
              "      <td>0</td>\n",
              "      <td>1</td>\n",
              "      <td>No Side Effects</td>\n",
              "    </tr>\n",
              "    <tr>\n",
              "      <th>6998</th>\n",
              "      <td>0</td>\n",
              "      <td>2</td>\n",
              "      <td>No Side Effects</td>\n",
              "    </tr>\n",
              "  </tbody>\n",
              "</table>\n",
              "<p>6999 rows × 3 columns</p>\n",
              "</div>\n",
              "      <button class=\"colab-df-convert\" onclick=\"convertToInteractive('df-29e3885d-b9f1-4b14-862a-e22204ea3664')\"\n",
              "              title=\"Convert this dataframe to an interactive table.\"\n",
              "              style=\"display:none;\">\n",
              "        \n",
              "  <svg xmlns=\"http://www.w3.org/2000/svg\" height=\"24px\"viewBox=\"0 0 24 24\"\n",
              "       width=\"24px\">\n",
              "    <path d=\"M0 0h24v24H0V0z\" fill=\"none\"/>\n",
              "    <path d=\"M18.56 5.44l.94 2.06.94-2.06 2.06-.94-2.06-.94-.94-2.06-.94 2.06-2.06.94zm-11 1L8.5 8.5l.94-2.06 2.06-.94-2.06-.94L8.5 2.5l-.94 2.06-2.06.94zm10 10l.94 2.06.94-2.06 2.06-.94-2.06-.94-.94-2.06-.94 2.06-2.06.94z\"/><path d=\"M17.41 7.96l-1.37-1.37c-.4-.4-.92-.59-1.43-.59-.52 0-1.04.2-1.43.59L10.3 9.45l-7.72 7.72c-.78.78-.78 2.05 0 2.83L4 21.41c.39.39.9.59 1.41.59.51 0 1.02-.2 1.41-.59l7.78-7.78 2.81-2.81c.8-.78.8-2.07 0-2.86zM5.41 20L4 18.59l7.72-7.72 1.47 1.35L5.41 20z\"/>\n",
              "  </svg>\n",
              "      </button>\n",
              "      \n",
              "  <style>\n",
              "    .colab-df-container {\n",
              "      display:flex;\n",
              "      flex-wrap:wrap;\n",
              "      gap: 12px;\n",
              "    }\n",
              "\n",
              "    .colab-df-convert {\n",
              "      background-color: #E8F0FE;\n",
              "      border: none;\n",
              "      border-radius: 50%;\n",
              "      cursor: pointer;\n",
              "      display: none;\n",
              "      fill: #1967D2;\n",
              "      height: 32px;\n",
              "      padding: 0 0 0 0;\n",
              "      width: 32px;\n",
              "    }\n",
              "\n",
              "    .colab-df-convert:hover {\n",
              "      background-color: #E2EBFA;\n",
              "      box-shadow: 0px 1px 2px rgba(60, 64, 67, 0.3), 0px 1px 3px 1px rgba(60, 64, 67, 0.15);\n",
              "      fill: #174EA6;\n",
              "    }\n",
              "\n",
              "    [theme=dark] .colab-df-convert {\n",
              "      background-color: #3B4455;\n",
              "      fill: #D2E3FC;\n",
              "    }\n",
              "\n",
              "    [theme=dark] .colab-df-convert:hover {\n",
              "      background-color: #434B5C;\n",
              "      box-shadow: 0px 1px 3px 1px rgba(0, 0, 0, 0.15);\n",
              "      filter: drop-shadow(0px 1px 2px rgba(0, 0, 0, 0.3));\n",
              "      fill: #FFFFFF;\n",
              "    }\n",
              "  </style>\n",
              "\n",
              "      <script>\n",
              "        const buttonEl =\n",
              "          document.querySelector('#df-29e3885d-b9f1-4b14-862a-e22204ea3664 button.colab-df-convert');\n",
              "        buttonEl.style.display =\n",
              "          google.colab.kernel.accessAllowed ? 'block' : 'none';\n",
              "\n",
              "        async function convertToInteractive(key) {\n",
              "          const element = document.querySelector('#df-29e3885d-b9f1-4b14-862a-e22204ea3664');\n",
              "          const dataTable =\n",
              "            await google.colab.kernel.invokeFunction('convertToInteractive',\n",
              "                                                     [key], {});\n",
              "          if (!dataTable) return;\n",
              "\n",
              "          const docLinkHtml = 'Like what you see? Visit the ' +\n",
              "            '<a target=\"_blank\" href=https://colab.research.google.com/notebooks/data_table.ipynb>data table notebook</a>'\n",
              "            + ' to learn more about interactive tables.';\n",
              "          element.innerHTML = '';\n",
              "          dataTable['output_type'] = 'display_data';\n",
              "          await google.colab.output.renderOutput(dataTable, element);\n",
              "          const docLink = document.createElement('div');\n",
              "          docLink.innerHTML = docLinkHtml;\n",
              "          element.appendChild(docLink);\n",
              "        }\n",
              "      </script>\n",
              "    </div>\n",
              "  </div>\n",
              "  "
            ]
          },
          "metadata": {},
          "execution_count": 45
        }
      ]
    },
    {
      "cell_type": "code",
      "source": [
        "X_train['sideEffects'] = X_train['sideEffects'].apply(severeness_encoding)"
      ],
      "metadata": {
        "colab": {
          "base_uri": "https://localhost:8080/"
        },
        "id": "Vm_Wg9moo2v_",
        "outputId": "e3c04f60-69dc-4e4f-b1f1-eb5e70b8e4da"
      },
      "id": "Vm_Wg9moo2v_",
      "execution_count": 46,
      "outputs": [
        {
          "output_type": "stream",
          "name": "stderr",
          "text": [
            "<ipython-input-46-5f4d09e400dd>:1: SettingWithCopyWarning: \n",
            "A value is trying to be set on a copy of a slice from a DataFrame.\n",
            "Try using .loc[row_indexer,col_indexer] = value instead\n",
            "\n",
            "See the caveats in the documentation: https://pandas.pydata.org/pandas-docs/stable/user_guide/indexing.html#returning-a-view-versus-a-copy\n",
            "  X_train['sideEffects'] = X_train['sideEffects'].apply(severeness_encoding)\n"
          ]
        }
      ]
    },
    {
      "cell_type": "code",
      "source": [
        "X_train['sideEffects']"
      ],
      "metadata": {
        "colab": {
          "base_uri": "https://localhost:8080/"
        },
        "id": "rP5Usz0DpTUp",
        "outputId": "ec6c4a9e-5f71-4783-a00c-a065e9c17dd1"
      },
      "id": "rP5Usz0DpTUp",
      "execution_count": 47,
      "outputs": [
        {
          "output_type": "execute_result",
          "data": {
            "text/plain": [
              "0       1\n",
              "1       3\n",
              "2       0\n",
              "3       1\n",
              "4       3\n",
              "       ..\n",
              "6994    1\n",
              "6995    0\n",
              "6996    1\n",
              "6997    0\n",
              "6998    0\n",
              "Name: sideEffects, Length: 6999, dtype: int64"
            ]
          },
          "metadata": {},
          "execution_count": 47
        }
      ]
    },
    {
      "cell_type": "code",
      "source": [
        "y_train"
      ],
      "metadata": {
        "colab": {
          "base_uri": "https://localhost:8080/"
        },
        "id": "gZiaoABgpxrd",
        "outputId": "212a76dc-52b7-44c4-9f5a-a432aed3f740"
      },
      "id": "gZiaoABgpxrd",
      "execution_count": 48,
      "outputs": [
        {
          "output_type": "execute_result",
          "data": {
            "text/plain": [
              "0       5\n",
              "1       4\n",
              "2       5\n",
              "3       5\n",
              "4       5\n",
              "       ..\n",
              "6994    5\n",
              "6995    4\n",
              "6996    5\n",
              "6997    1\n",
              "6998    3\n",
              "Name: rating, Length: 6999, dtype: int64"
            ]
          },
          "metadata": {},
          "execution_count": 48
        }
      ]
    },
    {
      "cell_type": "code",
      "source": [
        "X_train.head()"
      ],
      "metadata": {
        "colab": {
          "base_uri": "https://localhost:8080/",
          "height": 206
        },
        "id": "ChbAwqszp9vx",
        "outputId": "d0249d1a-187e-4317-ee56-bd4f384d2c5e"
      },
      "id": "ChbAwqszp9vx",
      "execution_count": 49,
      "outputs": [
        {
          "output_type": "execute_result",
          "data": {
            "text/plain": [
              "   reviewComment  usefulCount  sideEffects\n",
              "0              0           22            1\n",
              "1              1           17            3\n",
              "2              0            3            0\n",
              "3              0           35            1\n",
              "4              1            4            3"
            ],
            "text/html": [
              "\n",
              "  <div id=\"df-3f79deaa-9865-4e53-acfd-796f09265a80\">\n",
              "    <div class=\"colab-df-container\">\n",
              "      <div>\n",
              "<style scoped>\n",
              "    .dataframe tbody tr th:only-of-type {\n",
              "        vertical-align: middle;\n",
              "    }\n",
              "\n",
              "    .dataframe tbody tr th {\n",
              "        vertical-align: top;\n",
              "    }\n",
              "\n",
              "    .dataframe thead th {\n",
              "        text-align: right;\n",
              "    }\n",
              "</style>\n",
              "<table border=\"1\" class=\"dataframe\">\n",
              "  <thead>\n",
              "    <tr style=\"text-align: right;\">\n",
              "      <th></th>\n",
              "      <th>reviewComment</th>\n",
              "      <th>usefulCount</th>\n",
              "      <th>sideEffects</th>\n",
              "    </tr>\n",
              "  </thead>\n",
              "  <tbody>\n",
              "    <tr>\n",
              "      <th>0</th>\n",
              "      <td>0</td>\n",
              "      <td>22</td>\n",
              "      <td>1</td>\n",
              "    </tr>\n",
              "    <tr>\n",
              "      <th>1</th>\n",
              "      <td>1</td>\n",
              "      <td>17</td>\n",
              "      <td>3</td>\n",
              "    </tr>\n",
              "    <tr>\n",
              "      <th>2</th>\n",
              "      <td>0</td>\n",
              "      <td>3</td>\n",
              "      <td>0</td>\n",
              "    </tr>\n",
              "    <tr>\n",
              "      <th>3</th>\n",
              "      <td>0</td>\n",
              "      <td>35</td>\n",
              "      <td>1</td>\n",
              "    </tr>\n",
              "    <tr>\n",
              "      <th>4</th>\n",
              "      <td>1</td>\n",
              "      <td>4</td>\n",
              "      <td>3</td>\n",
              "    </tr>\n",
              "  </tbody>\n",
              "</table>\n",
              "</div>\n",
              "      <button class=\"colab-df-convert\" onclick=\"convertToInteractive('df-3f79deaa-9865-4e53-acfd-796f09265a80')\"\n",
              "              title=\"Convert this dataframe to an interactive table.\"\n",
              "              style=\"display:none;\">\n",
              "        \n",
              "  <svg xmlns=\"http://www.w3.org/2000/svg\" height=\"24px\"viewBox=\"0 0 24 24\"\n",
              "       width=\"24px\">\n",
              "    <path d=\"M0 0h24v24H0V0z\" fill=\"none\"/>\n",
              "    <path d=\"M18.56 5.44l.94 2.06.94-2.06 2.06-.94-2.06-.94-.94-2.06-.94 2.06-2.06.94zm-11 1L8.5 8.5l.94-2.06 2.06-.94-2.06-.94L8.5 2.5l-.94 2.06-2.06.94zm10 10l.94 2.06.94-2.06 2.06-.94-2.06-.94-.94-2.06-.94 2.06-2.06.94z\"/><path d=\"M17.41 7.96l-1.37-1.37c-.4-.4-.92-.59-1.43-.59-.52 0-1.04.2-1.43.59L10.3 9.45l-7.72 7.72c-.78.78-.78 2.05 0 2.83L4 21.41c.39.39.9.59 1.41.59.51 0 1.02-.2 1.41-.59l7.78-7.78 2.81-2.81c.8-.78.8-2.07 0-2.86zM5.41 20L4 18.59l7.72-7.72 1.47 1.35L5.41 20z\"/>\n",
              "  </svg>\n",
              "      </button>\n",
              "      \n",
              "  <style>\n",
              "    .colab-df-container {\n",
              "      display:flex;\n",
              "      flex-wrap:wrap;\n",
              "      gap: 12px;\n",
              "    }\n",
              "\n",
              "    .colab-df-convert {\n",
              "      background-color: #E8F0FE;\n",
              "      border: none;\n",
              "      border-radius: 50%;\n",
              "      cursor: pointer;\n",
              "      display: none;\n",
              "      fill: #1967D2;\n",
              "      height: 32px;\n",
              "      padding: 0 0 0 0;\n",
              "      width: 32px;\n",
              "    }\n",
              "\n",
              "    .colab-df-convert:hover {\n",
              "      background-color: #E2EBFA;\n",
              "      box-shadow: 0px 1px 2px rgba(60, 64, 67, 0.3), 0px 1px 3px 1px rgba(60, 64, 67, 0.15);\n",
              "      fill: #174EA6;\n",
              "    }\n",
              "\n",
              "    [theme=dark] .colab-df-convert {\n",
              "      background-color: #3B4455;\n",
              "      fill: #D2E3FC;\n",
              "    }\n",
              "\n",
              "    [theme=dark] .colab-df-convert:hover {\n",
              "      background-color: #434B5C;\n",
              "      box-shadow: 0px 1px 3px 1px rgba(0, 0, 0, 0.15);\n",
              "      filter: drop-shadow(0px 1px 2px rgba(0, 0, 0, 0.3));\n",
              "      fill: #FFFFFF;\n",
              "    }\n",
              "  </style>\n",
              "\n",
              "      <script>\n",
              "        const buttonEl =\n",
              "          document.querySelector('#df-3f79deaa-9865-4e53-acfd-796f09265a80 button.colab-df-convert');\n",
              "        buttonEl.style.display =\n",
              "          google.colab.kernel.accessAllowed ? 'block' : 'none';\n",
              "\n",
              "        async function convertToInteractive(key) {\n",
              "          const element = document.querySelector('#df-3f79deaa-9865-4e53-acfd-796f09265a80');\n",
              "          const dataTable =\n",
              "            await google.colab.kernel.invokeFunction('convertToInteractive',\n",
              "                                                     [key], {});\n",
              "          if (!dataTable) return;\n",
              "\n",
              "          const docLinkHtml = 'Like what you see? Visit the ' +\n",
              "            '<a target=\"_blank\" href=https://colab.research.google.com/notebooks/data_table.ipynb>data table notebook</a>'\n",
              "            + ' to learn more about interactive tables.';\n",
              "          element.innerHTML = '';\n",
              "          dataTable['output_type'] = 'display_data';\n",
              "          await google.colab.output.renderOutput(dataTable, element);\n",
              "          const docLink = document.createElement('div');\n",
              "          docLink.innerHTML = docLinkHtml;\n",
              "          element.appendChild(docLink);\n",
              "        }\n",
              "      </script>\n",
              "    </div>\n",
              "  </div>\n",
              "  "
            ]
          },
          "metadata": {},
          "execution_count": 49
        }
      ]
    },
    {
      "cell_type": "code",
      "source": [
        "y_train"
      ],
      "metadata": {
        "colab": {
          "base_uri": "https://localhost:8080/"
        },
        "id": "rcabXePlqBnc",
        "outputId": "0f60f151-0f09-49d5-a600-208d8ba28498"
      },
      "id": "rcabXePlqBnc",
      "execution_count": 50,
      "outputs": [
        {
          "output_type": "execute_result",
          "data": {
            "text/plain": [
              "0       5\n",
              "1       4\n",
              "2       5\n",
              "3       5\n",
              "4       5\n",
              "       ..\n",
              "6994    5\n",
              "6995    4\n",
              "6996    5\n",
              "6997    1\n",
              "6998    3\n",
              "Name: rating, Length: 6999, dtype: int64"
            ]
          },
          "metadata": {},
          "execution_count": 50
        }
      ]
    },
    {
      "cell_type": "code",
      "source": [
        "# Define a function to calculate the Gini impurity\n",
        "def gini_impurity(labels):\n",
        "    # When the set is empty, return 0\n",
        "    if labels.size == 0:\n",
        "        return 0\n",
        "    \n",
        "    # Count the occurrences of each label\n",
        "    counts = np.unique(labels, return_counts=True)[1]\n",
        "    \n",
        "    # Calculate the probabilities for each label\n",
        "    fractions = counts / float(len(labels))\n",
        "    \n",
        "    # Return the Gini impurity\n",
        "    return 1 - np.sum(fractions ** 2)\n",
        "\n",
        "# Define a function to find the best split for a given feature\n",
        "def find_best_split(feature, labels):\n",
        "    # Initialize the best split\n",
        "    best_split = {}\n",
        "    \n",
        "    # Find the unique values in the feature\n",
        "    unique_values = np.unique(feature)\n",
        "    \n",
        "    # Iterate over all possible split values\n",
        "    for split_value in unique_values:\n",
        "        # Split the data into two groups based on the split value\n",
        "        left_labels = labels[feature < split_value]\n",
        "        right_labels = labels[feature >= split_value]\n",
        "        \n",
        "        # Calculate the Gini impurity for each group\n",
        "        left_gini = gini_impurity(left_labels)\n",
        "        right_gini = gini_impurity(right_labels)\n",
        "        \n",
        "        # Calculate the weighted average Gini impurity for this split\n",
        "        n = len(labels)\n",
        "        n_left = len(left_labels)\n",
        "        n_right = len(right_labels)\n",
        "        gini = (n_left / n) * left_gini + (n_right / n) * right_gini\n",
        "        \n",
        "        # Update the best split if this split is better\n",
        "        if 'gini' not in best_split or gini < best_split['gini']:\n",
        "            best_split = {\n",
        "                'feature': feature.name,\n",
        "                'split_value': split_value,\n",
        "                'gini': gini,\n",
        "                'left_labels': left_labels,\n",
        "                'right_labels': right_labels,\n",
        "            }\n",
        "    \n",
        "    # Return the best split\n",
        "    return best_split\n",
        "\n",
        "# Define a function to build a decision tree recursively\n",
        "def build_tree(data, labels, depth=0, max_depth=3):\n",
        "    # Create a leaf node with the most common label if we have reached the maximum depth\n",
        "    if depth == max_depth:\n",
        "        return {\n",
        "            'leaf': True,\n",
        "            'label': np.argmax(np.bincount(labels)),\n",
        "        }\n",
        "    \n",
        "    # Find the best split for each feature\n",
        "    splits = [find_best_split(data[feature], labels) for feature in data.columns]\n",
        "    \n",
        "    # Find the best split overall\n",
        "    best_split = min(splits, key=lambda x: x['gini'])\n",
        "    \n",
        "    # Create an internal node with the best split\n",
        "    node = {\n",
        "        'leaf': False,\n",
        "        'feature': best_split['feature'],\n",
        "        'split_value': best_split['split_value'],\n",
        "        'left_child': build_tree(data[data[best_split['feature']] < best_split['split_value']], best_split['left_labels'], depth + 1, max_depth),\n",
        "        'right_child': build_tree(data[data[best_split['feature']] >= best_split['split_value']], best_split['right_labels'], depth + 1, max_depth),\n",
        "    }\n",
        "    \n",
        "    return node\n",
        "\n",
        "# Define a function to make predictions using a decision tree\n",
        "def predict(tree, data):\n",
        "    # If we have reached a leaf node, return its label\n",
        "    if tree['leaf']:\n",
        "        return tree['label']\n",
        "    \n",
        "    # Otherwise, move to the left or right child depending on the value of the feature in this data point\n",
        "    if data[tree['feature']] < tree['split_value']:\n",
        "        return predict(tree['left_child'], data)\n",
        "    else:\n",
        "        return predict(tree['right_child'], data)"
      ],
      "metadata": {
        "id": "mTICqf3TqEI2"
      },
      "id": "mTICqf3TqEI2",
      "execution_count": 53,
      "outputs": []
    },
    {
      "cell_type": "code",
      "source": [
        "tree = build_tree(X_train, y_train)"
      ],
      "metadata": {
        "id": "DGNSJzPnqmaY"
      },
      "id": "DGNSJzPnqmaY",
      "execution_count": 60,
      "outputs": []
    },
    {
      "cell_type": "code",
      "source": [
        "predictions_train = [predict(tree, X_train.iloc[i]) for i in range(len(X_train))]"
      ],
      "metadata": {
        "id": "4DOYaJtPtmny"
      },
      "id": "4DOYaJtPtmny",
      "execution_count": 66,
      "outputs": []
    },
    {
      "cell_type": "code",
      "source": [
        "train_acc = sum(predictions_train == y_train) / len(y_train)\n",
        "train_acc"
      ],
      "metadata": {
        "colab": {
          "base_uri": "https://localhost:8080/"
        },
        "id": "FZM8px7muCWn",
        "outputId": "6671bc18-5f69-4b34-a145-3c582b65d170"
      },
      "id": "FZM8px7muCWn",
      "execution_count": 68,
      "outputs": [
        {
          "output_type": "execute_result",
          "data": {
            "text/plain": [
              "0.5076439491355907"
            ]
          },
          "metadata": {},
          "execution_count": 68
        }
      ]
    },
    {
      "cell_type": "markdown",
      "source": [
        "## 对验证集数据进行预处理"
      ],
      "metadata": {
        "id": "pDf1CaZ31JnJ"
      },
      "id": "pDf1CaZ31JnJ"
    },
    {
      "cell_type": "code",
      "source": [
        "X_valid = valid_data[features]\n",
        "y_valid = valid_data['rating']"
      ],
      "metadata": {
        "id": "TeNH01y-umeL"
      },
      "id": "TeNH01y-umeL",
      "execution_count": 63,
      "outputs": []
    },
    {
      "cell_type": "code",
      "source": [
        "X_valid['sideEffects'] = X_valid['sideEffects'].apply(severeness_encoding)"
      ],
      "metadata": {
        "colab": {
          "base_uri": "https://localhost:8080/"
        },
        "id": "zIBI93kousZi",
        "outputId": "6e6b279c-038f-48be-8b25-0cb17d735fbf"
      },
      "id": "zIBI93kousZi",
      "execution_count": 64,
      "outputs": [
        {
          "output_type": "stream",
          "name": "stderr",
          "text": [
            "<ipython-input-64-505cfebc74bf>:1: SettingWithCopyWarning: \n",
            "A value is trying to be set on a copy of a slice from a DataFrame.\n",
            "Try using .loc[row_indexer,col_indexer] = value instead\n",
            "\n",
            "See the caveats in the documentation: https://pandas.pydata.org/pandas-docs/stable/user_guide/indexing.html#returning-a-view-versus-a-copy\n",
            "  X_valid['sideEffects'] = X_valid['sideEffects'].apply(severeness_encoding)\n"
          ]
        }
      ]
    },
    {
      "cell_type": "code",
      "source": [
        "X_valid['reviewComment'] = X_valid['reviewComment'].apply(lambda x : classify_sentiment(truncate(x)))"
      ],
      "metadata": {
        "colab": {
          "base_uri": "https://localhost:8080/"
        },
        "id": "UNG2m4_0u2pd",
        "outputId": "5f2dec2e-4fd2-4e24-a710-92a85a6a8cc6"
      },
      "id": "UNG2m4_0u2pd",
      "execution_count": 65,
      "outputs": [
        {
          "output_type": "stream",
          "name": "stderr",
          "text": [
            "/usr/local/lib/python3.9/dist-packages/transformers/pipelines/base.py:1070: UserWarning: You seem to be using the pipelines sequentially on GPU. In order to maximize efficiency please use a dataset\n",
            "  warnings.warn(\n",
            "<ipython-input-65-525a34d348f5>:1: SettingWithCopyWarning: \n",
            "A value is trying to be set on a copy of a slice from a DataFrame.\n",
            "Try using .loc[row_indexer,col_indexer] = value instead\n",
            "\n",
            "See the caveats in the documentation: https://pandas.pydata.org/pandas-docs/stable/user_guide/indexing.html#returning-a-view-versus-a-copy\n",
            "  X_valid['reviewComment'] = X_valid['reviewComment'].apply(lambda x : classify_sentiment(truncate(x)))\n"
          ]
        }
      ]
    },
    {
      "cell_type": "code",
      "source": [
        "predictions_valid = [predict(tree, X_valid.iloc[i]) for i in range(len(X_valid))]"
      ],
      "metadata": {
        "id": "y2Xk-Tdvu_Gn"
      },
      "id": "y2Xk-Tdvu_Gn",
      "execution_count": 69,
      "outputs": []
    },
    {
      "cell_type": "markdown",
      "source": [
        "## 计算评估分数"
      ],
      "metadata": {
        "id": "od97es691Nha"
      },
      "id": "od97es691Nha"
    },
    {
      "cell_type": "code",
      "source": [
        "from sklearn.metrics import f1_score"
      ],
      "metadata": {
        "id": "3tlkHiAhyaet"
      },
      "id": "3tlkHiAhyaet",
      "execution_count": 83,
      "outputs": []
    },
    {
      "cell_type": "code",
      "source": [
        "f1_micro = f1_score(y_valid, predictions_valid, average='micro')"
      ],
      "metadata": {
        "id": "ExybZ3a6ycSg"
      },
      "id": "ExybZ3a6ycSg",
      "execution_count": 84,
      "outputs": []
    },
    {
      "cell_type": "code",
      "source": [
        "print(f'Micro-F1: {f1_micro}')"
      ],
      "metadata": {
        "colab": {
          "base_uri": "https://localhost:8080/"
        },
        "id": "zpwdnzcQykIg",
        "outputId": "36f21829-529d-48cb-8d12-239ffbb91beb"
      },
      "id": "zpwdnzcQykIg",
      "execution_count": 98,
      "outputs": [
        {
          "output_type": "stream",
          "name": "stdout",
          "text": [
            "Micro-F1: 0.5187656380316931\n"
          ]
        }
      ]
    },
    {
      "cell_type": "code",
      "source": [
        "f1_macro = f1_score(y_valid, predictions_valid, average='macro')"
      ],
      "metadata": {
        "id": "19xeUzOEyouq"
      },
      "id": "19xeUzOEyouq",
      "execution_count": 86,
      "outputs": []
    },
    {
      "cell_type": "code",
      "source": [
        "print(f'Macro-F1: {f1_macro}')"
      ],
      "metadata": {
        "colab": {
          "base_uri": "https://localhost:8080/"
        },
        "id": "NmYX2rHYyx-T",
        "outputId": "1e52c4cf-f493-493e-b989-ea52dc88e30a"
      },
      "id": "NmYX2rHYyx-T",
      "execution_count": 99,
      "outputs": [
        {
          "output_type": "stream",
          "name": "stdout",
          "text": [
            "Macro-F1: 0.2231501182877081\n"
          ]
        }
      ]
    },
    {
      "cell_type": "code",
      "source": [
        "valid_acc = sum(predictions_valid == y_valid) / len(y_valid)"
      ],
      "metadata": {
        "id": "TfPJOfBTvfeJ"
      },
      "id": "TfPJOfBTvfeJ",
      "execution_count": 70,
      "outputs": []
    },
    {
      "cell_type": "code",
      "source": [
        "valid_acc"
      ],
      "metadata": {
        "colab": {
          "base_uri": "https://localhost:8080/"
        },
        "id": "wYWImQlav23a",
        "outputId": "565226ba-1f63-477c-ee20-7d077d341d33"
      },
      "id": "wYWImQlav23a",
      "execution_count": 71,
      "outputs": [
        {
          "output_type": "execute_result",
          "data": {
            "text/plain": [
              "0.5187656380316931"
            ]
          },
          "metadata": {},
          "execution_count": 71
        }
      ]
    },
    {
      "cell_type": "markdown",
      "source": [
        "## 下面对测试数据进行相同的预处理"
      ],
      "metadata": {
        "id": "4GngYN17043x"
      },
      "id": "4GngYN17043x"
    },
    {
      "cell_type": "code",
      "source": [
        "X_test = test_data[features]"
      ],
      "metadata": {
        "id": "0-qysLI2v8l2"
      },
      "id": "0-qysLI2v8l2",
      "execution_count": 74,
      "outputs": []
    },
    {
      "cell_type": "code",
      "source": [
        "X_test.head()"
      ],
      "metadata": {
        "colab": {
          "base_uri": "https://localhost:8080/",
          "height": 206
        },
        "id": "df4L976swBjY",
        "outputId": "0cb25c31-e05c-4650-c3dc-7a651a479721"
      },
      "id": "df4L976swBjY",
      "execution_count": 75,
      "outputs": [
        {
          "output_type": "execute_result",
          "data": {
            "text/plain": [
              "                                       reviewComment  usefulCount  \\\n",
              "0  \"I was on Microgestin Fe 1/20 for three months...            1   \n",
              "1  \"Have had clusters for 45 years, remember the ...            0   \n",
              "2  \"On June 6th 2015 I took plan B 4 HOURS after ...           13   \n",
              "3  \"I tried Chantix for a period of 2 months.  My...            7   \n",
              "4  \"I was diagnosed with Sleep Apnea, for that I ...           11   \n",
              "\n",
              "             sideEffects  \n",
              "0    Severe Side Effects  \n",
              "1  Moderate Side Effects  \n",
              "2      Mild Side Effects  \n",
              "3      Mild Side Effects  \n",
              "4  Moderate Side Effects  "
            ],
            "text/html": [
              "\n",
              "  <div id=\"df-593ac5a6-7a70-4674-a9ff-7d41e8b71ec6\">\n",
              "    <div class=\"colab-df-container\">\n",
              "      <div>\n",
              "<style scoped>\n",
              "    .dataframe tbody tr th:only-of-type {\n",
              "        vertical-align: middle;\n",
              "    }\n",
              "\n",
              "    .dataframe tbody tr th {\n",
              "        vertical-align: top;\n",
              "    }\n",
              "\n",
              "    .dataframe thead th {\n",
              "        text-align: right;\n",
              "    }\n",
              "</style>\n",
              "<table border=\"1\" class=\"dataframe\">\n",
              "  <thead>\n",
              "    <tr style=\"text-align: right;\">\n",
              "      <th></th>\n",
              "      <th>reviewComment</th>\n",
              "      <th>usefulCount</th>\n",
              "      <th>sideEffects</th>\n",
              "    </tr>\n",
              "  </thead>\n",
              "  <tbody>\n",
              "    <tr>\n",
              "      <th>0</th>\n",
              "      <td>\"I was on Microgestin Fe 1/20 for three months...</td>\n",
              "      <td>1</td>\n",
              "      <td>Severe Side Effects</td>\n",
              "    </tr>\n",
              "    <tr>\n",
              "      <th>1</th>\n",
              "      <td>\"Have had clusters for 45 years, remember the ...</td>\n",
              "      <td>0</td>\n",
              "      <td>Moderate Side Effects</td>\n",
              "    </tr>\n",
              "    <tr>\n",
              "      <th>2</th>\n",
              "      <td>\"On June 6th 2015 I took plan B 4 HOURS after ...</td>\n",
              "      <td>13</td>\n",
              "      <td>Mild Side Effects</td>\n",
              "    </tr>\n",
              "    <tr>\n",
              "      <th>3</th>\n",
              "      <td>\"I tried Chantix for a period of 2 months.  My...</td>\n",
              "      <td>7</td>\n",
              "      <td>Mild Side Effects</td>\n",
              "    </tr>\n",
              "    <tr>\n",
              "      <th>4</th>\n",
              "      <td>\"I was diagnosed with Sleep Apnea, for that I ...</td>\n",
              "      <td>11</td>\n",
              "      <td>Moderate Side Effects</td>\n",
              "    </tr>\n",
              "  </tbody>\n",
              "</table>\n",
              "</div>\n",
              "      <button class=\"colab-df-convert\" onclick=\"convertToInteractive('df-593ac5a6-7a70-4674-a9ff-7d41e8b71ec6')\"\n",
              "              title=\"Convert this dataframe to an interactive table.\"\n",
              "              style=\"display:none;\">\n",
              "        \n",
              "  <svg xmlns=\"http://www.w3.org/2000/svg\" height=\"24px\"viewBox=\"0 0 24 24\"\n",
              "       width=\"24px\">\n",
              "    <path d=\"M0 0h24v24H0V0z\" fill=\"none\"/>\n",
              "    <path d=\"M18.56 5.44l.94 2.06.94-2.06 2.06-.94-2.06-.94-.94-2.06-.94 2.06-2.06.94zm-11 1L8.5 8.5l.94-2.06 2.06-.94-2.06-.94L8.5 2.5l-.94 2.06-2.06.94zm10 10l.94 2.06.94-2.06 2.06-.94-2.06-.94-.94-2.06-.94 2.06-2.06.94z\"/><path d=\"M17.41 7.96l-1.37-1.37c-.4-.4-.92-.59-1.43-.59-.52 0-1.04.2-1.43.59L10.3 9.45l-7.72 7.72c-.78.78-.78 2.05 0 2.83L4 21.41c.39.39.9.59 1.41.59.51 0 1.02-.2 1.41-.59l7.78-7.78 2.81-2.81c.8-.78.8-2.07 0-2.86zM5.41 20L4 18.59l7.72-7.72 1.47 1.35L5.41 20z\"/>\n",
              "  </svg>\n",
              "      </button>\n",
              "      \n",
              "  <style>\n",
              "    .colab-df-container {\n",
              "      display:flex;\n",
              "      flex-wrap:wrap;\n",
              "      gap: 12px;\n",
              "    }\n",
              "\n",
              "    .colab-df-convert {\n",
              "      background-color: #E8F0FE;\n",
              "      border: none;\n",
              "      border-radius: 50%;\n",
              "      cursor: pointer;\n",
              "      display: none;\n",
              "      fill: #1967D2;\n",
              "      height: 32px;\n",
              "      padding: 0 0 0 0;\n",
              "      width: 32px;\n",
              "    }\n",
              "\n",
              "    .colab-df-convert:hover {\n",
              "      background-color: #E2EBFA;\n",
              "      box-shadow: 0px 1px 2px rgba(60, 64, 67, 0.3), 0px 1px 3px 1px rgba(60, 64, 67, 0.15);\n",
              "      fill: #174EA6;\n",
              "    }\n",
              "\n",
              "    [theme=dark] .colab-df-convert {\n",
              "      background-color: #3B4455;\n",
              "      fill: #D2E3FC;\n",
              "    }\n",
              "\n",
              "    [theme=dark] .colab-df-convert:hover {\n",
              "      background-color: #434B5C;\n",
              "      box-shadow: 0px 1px 3px 1px rgba(0, 0, 0, 0.15);\n",
              "      filter: drop-shadow(0px 1px 2px rgba(0, 0, 0, 0.3));\n",
              "      fill: #FFFFFF;\n",
              "    }\n",
              "  </style>\n",
              "\n",
              "      <script>\n",
              "        const buttonEl =\n",
              "          document.querySelector('#df-593ac5a6-7a70-4674-a9ff-7d41e8b71ec6 button.colab-df-convert');\n",
              "        buttonEl.style.display =\n",
              "          google.colab.kernel.accessAllowed ? 'block' : 'none';\n",
              "\n",
              "        async function convertToInteractive(key) {\n",
              "          const element = document.querySelector('#df-593ac5a6-7a70-4674-a9ff-7d41e8b71ec6');\n",
              "          const dataTable =\n",
              "            await google.colab.kernel.invokeFunction('convertToInteractive',\n",
              "                                                     [key], {});\n",
              "          if (!dataTable) return;\n",
              "\n",
              "          const docLinkHtml = 'Like what you see? Visit the ' +\n",
              "            '<a target=\"_blank\" href=https://colab.research.google.com/notebooks/data_table.ipynb>data table notebook</a>'\n",
              "            + ' to learn more about interactive tables.';\n",
              "          element.innerHTML = '';\n",
              "          dataTable['output_type'] = 'display_data';\n",
              "          await google.colab.output.renderOutput(dataTable, element);\n",
              "          const docLink = document.createElement('div');\n",
              "          docLink.innerHTML = docLinkHtml;\n",
              "          element.appendChild(docLink);\n",
              "        }\n",
              "      </script>\n",
              "    </div>\n",
              "  </div>\n",
              "  "
            ]
          },
          "metadata": {},
          "execution_count": 75
        }
      ]
    },
    {
      "cell_type": "code",
      "source": [
        "X_test['sideEffects'] = X_test['sideEffects'].apply(severeness_encoding)"
      ],
      "metadata": {
        "colab": {
          "base_uri": "https://localhost:8080/"
        },
        "id": "P1Y38JrCwG_F",
        "outputId": "408393ea-67f5-47bd-f8cb-57bd6b227720"
      },
      "id": "P1Y38JrCwG_F",
      "execution_count": 77,
      "outputs": [
        {
          "output_type": "stream",
          "name": "stderr",
          "text": [
            "<ipython-input-77-e58446043de8>:1: SettingWithCopyWarning: \n",
            "A value is trying to be set on a copy of a slice from a DataFrame.\n",
            "Try using .loc[row_indexer,col_indexer] = value instead\n",
            "\n",
            "See the caveats in the documentation: https://pandas.pydata.org/pandas-docs/stable/user_guide/indexing.html#returning-a-view-versus-a-copy\n",
            "  X_test['sideEffects'] = X_test['sideEffects'].apply(severeness_encoding)\n"
          ]
        }
      ]
    },
    {
      "cell_type": "code",
      "source": [
        "X_test['sideEffects']"
      ],
      "metadata": {
        "colab": {
          "base_uri": "https://localhost:8080/"
        },
        "id": "n1Zu4CPfwvIz",
        "outputId": "e9347465-881a-4d80-b5dc-afa6c72ee705"
      },
      "id": "n1Zu4CPfwvIz",
      "execution_count": 78,
      "outputs": [
        {
          "output_type": "execute_result",
          "data": {
            "text/plain": [
              "0       3\n",
              "1       2\n",
              "2       1\n",
              "3       1\n",
              "4       2\n",
              "       ..\n",
              "1793    2\n",
              "1794    3\n",
              "1795    4\n",
              "1796    1\n",
              "1797    2\n",
              "Name: sideEffects, Length: 1798, dtype: int64"
            ]
          },
          "metadata": {},
          "execution_count": 78
        }
      ]
    },
    {
      "cell_type": "code",
      "source": [
        "X_test['reviewComment'] = X_test['reviewComment'].apply(lambda x : classify_sentiment(truncate(x)))"
      ],
      "metadata": {
        "colab": {
          "base_uri": "https://localhost:8080/"
        },
        "id": "FclgWTIlw3iS",
        "outputId": "c4d61f01-f3d7-453f-c303-6815c186eea9"
      },
      "id": "FclgWTIlw3iS",
      "execution_count": 79,
      "outputs": [
        {
          "output_type": "stream",
          "name": "stderr",
          "text": [
            "/usr/local/lib/python3.9/dist-packages/transformers/pipelines/base.py:1070: UserWarning: You seem to be using the pipelines sequentially on GPU. In order to maximize efficiency please use a dataset\n",
            "  warnings.warn(\n",
            "<ipython-input-79-b1d91f5d5187>:1: SettingWithCopyWarning: \n",
            "A value is trying to be set on a copy of a slice from a DataFrame.\n",
            "Try using .loc[row_indexer,col_indexer] = value instead\n",
            "\n",
            "See the caveats in the documentation: https://pandas.pydata.org/pandas-docs/stable/user_guide/indexing.html#returning-a-view-versus-a-copy\n",
            "  X_test['reviewComment'] = X_test['reviewComment'].apply(lambda x : classify_sentiment(truncate(x)))\n"
          ]
        }
      ]
    },
    {
      "cell_type": "code",
      "source": [
        "predictions_test = [predict(tree, X_test.iloc[i]) for i in range(len(X_test))]"
      ],
      "metadata": {
        "id": "W2DflS-yxaFG"
      },
      "id": "W2DflS-yxaFG",
      "execution_count": 80,
      "outputs": []
    },
    {
      "cell_type": "code",
      "source": [
        "y_test = pd.DataFrame(data=predictions_test)"
      ],
      "metadata": {
        "id": "PggBNuHzxy4J"
      },
      "id": "PggBNuHzxy4J",
      "execution_count": 88,
      "outputs": []
    },
    {
      "cell_type": "code",
      "source": [
        "test_data['rating'] = y_test"
      ],
      "metadata": {
        "id": "3dNfXMqxy_Sl"
      },
      "id": "3dNfXMqxy_Sl",
      "execution_count": 91,
      "outputs": []
    },
    {
      "cell_type": "code",
      "source": [
        "test_data"
      ],
      "metadata": {
        "colab": {
          "base_uri": "https://localhost:8080/",
          "height": 832
        },
        "id": "qVcj0_94zpR9",
        "outputId": "a7ac750b-0b26-4679-b54c-ef3bedb9c9b3"
      },
      "id": "qVcj0_94zpR9",
      "execution_count": 92,
      "outputs": [
        {
          "output_type": "execute_result",
          "data": {
            "text/plain": [
              "      recordId                 drugName                          condition  \\\n",
              "0       219597  Microgestin Fe 1.5 / 30                      Birth Control   \n",
              "1       134044               Prednisone                  Cluster Headaches   \n",
              "2        68176                   Plan B            Emergency Contraception   \n",
              "3       200538              Varenicline                  Smoking Cessation   \n",
              "4        46409                Modafinil                         Narcolepsy   \n",
              "...        ...                      ...                                ...   \n",
              "1793    132278                   Ativan                           Insomnia   \n",
              "1794    126842             Erythromycin  Upper Respiratory Tract Infection   \n",
              "1795     68153                   Plan B            Emergency Contraception   \n",
              "1796    126865                 Dilaudid                               Pain   \n",
              "1797     40841               Leuprolide                      Endometriosis   \n",
              "\n",
              "                                          reviewComment       date  \\\n",
              "0     \"I was on Microgestin Fe 1/20 for three months...  10-Sep-17   \n",
              "1     \"Have had clusters for 45 years, remember the ...  29-Aug-17   \n",
              "2     \"On June 6th 2015 I took plan B 4 HOURS after ...   6-Jul-15   \n",
              "3     \"I tried Chantix for a period of 2 months.  My...   7-Jul-11   \n",
              "4     \"I was diagnosed with Sleep Apnea, for that I ...   1-Oct-09   \n",
              "...                                                 ...        ...   \n",
              "1793  \"I was given Ativan for occasional use. I try ...   9-Aug-14   \n",
              "1794  \"This antibiotic is the best, hands down.  The...  26-Mar-16   \n",
              "1795  \"I took this pill on June 16th 2015. I was rea...  12-Aug-15   \n",
              "1796  \"I developed severe pancreatitis and hepatitis...   2-Feb-10   \n",
              "1797  \"lupron is not for everyone! I must admit I wa...  26-Aug-15   \n",
              "\n",
              "      usefulCount                    sideEffects  rating  \n",
              "0               1            Severe Side Effects       1  \n",
              "1               0          Moderate Side Effects       1  \n",
              "2              13              Mild Side Effects       5  \n",
              "3               7              Mild Side Effects       1  \n",
              "4              11          Moderate Side Effects       5  \n",
              "...           ...                            ...     ...  \n",
              "1793          176          Moderate Side Effects       5  \n",
              "1794            8            Severe Side Effects       1  \n",
              "1795            2  Extremely Severe Side Effects       5  \n",
              "1796           58              Mild Side Effects       5  \n",
              "1797           17          Moderate Side Effects       5  \n",
              "\n",
              "[1798 rows x 8 columns]"
            ],
            "text/html": [
              "\n",
              "  <div id=\"df-653c7a81-bf14-453d-baee-28e49a95b292\">\n",
              "    <div class=\"colab-df-container\">\n",
              "      <div>\n",
              "<style scoped>\n",
              "    .dataframe tbody tr th:only-of-type {\n",
              "        vertical-align: middle;\n",
              "    }\n",
              "\n",
              "    .dataframe tbody tr th {\n",
              "        vertical-align: top;\n",
              "    }\n",
              "\n",
              "    .dataframe thead th {\n",
              "        text-align: right;\n",
              "    }\n",
              "</style>\n",
              "<table border=\"1\" class=\"dataframe\">\n",
              "  <thead>\n",
              "    <tr style=\"text-align: right;\">\n",
              "      <th></th>\n",
              "      <th>recordId</th>\n",
              "      <th>drugName</th>\n",
              "      <th>condition</th>\n",
              "      <th>reviewComment</th>\n",
              "      <th>date</th>\n",
              "      <th>usefulCount</th>\n",
              "      <th>sideEffects</th>\n",
              "      <th>rating</th>\n",
              "    </tr>\n",
              "  </thead>\n",
              "  <tbody>\n",
              "    <tr>\n",
              "      <th>0</th>\n",
              "      <td>219597</td>\n",
              "      <td>Microgestin Fe 1.5 / 30</td>\n",
              "      <td>Birth Control</td>\n",
              "      <td>\"I was on Microgestin Fe 1/20 for three months...</td>\n",
              "      <td>10-Sep-17</td>\n",
              "      <td>1</td>\n",
              "      <td>Severe Side Effects</td>\n",
              "      <td>1</td>\n",
              "    </tr>\n",
              "    <tr>\n",
              "      <th>1</th>\n",
              "      <td>134044</td>\n",
              "      <td>Prednisone</td>\n",
              "      <td>Cluster Headaches</td>\n",
              "      <td>\"Have had clusters for 45 years, remember the ...</td>\n",
              "      <td>29-Aug-17</td>\n",
              "      <td>0</td>\n",
              "      <td>Moderate Side Effects</td>\n",
              "      <td>1</td>\n",
              "    </tr>\n",
              "    <tr>\n",
              "      <th>2</th>\n",
              "      <td>68176</td>\n",
              "      <td>Plan B</td>\n",
              "      <td>Emergency Contraception</td>\n",
              "      <td>\"On June 6th 2015 I took plan B 4 HOURS after ...</td>\n",
              "      <td>6-Jul-15</td>\n",
              "      <td>13</td>\n",
              "      <td>Mild Side Effects</td>\n",
              "      <td>5</td>\n",
              "    </tr>\n",
              "    <tr>\n",
              "      <th>3</th>\n",
              "      <td>200538</td>\n",
              "      <td>Varenicline</td>\n",
              "      <td>Smoking Cessation</td>\n",
              "      <td>\"I tried Chantix for a period of 2 months.  My...</td>\n",
              "      <td>7-Jul-11</td>\n",
              "      <td>7</td>\n",
              "      <td>Mild Side Effects</td>\n",
              "      <td>1</td>\n",
              "    </tr>\n",
              "    <tr>\n",
              "      <th>4</th>\n",
              "      <td>46409</td>\n",
              "      <td>Modafinil</td>\n",
              "      <td>Narcolepsy</td>\n",
              "      <td>\"I was diagnosed with Sleep Apnea, for that I ...</td>\n",
              "      <td>1-Oct-09</td>\n",
              "      <td>11</td>\n",
              "      <td>Moderate Side Effects</td>\n",
              "      <td>5</td>\n",
              "    </tr>\n",
              "    <tr>\n",
              "      <th>...</th>\n",
              "      <td>...</td>\n",
              "      <td>...</td>\n",
              "      <td>...</td>\n",
              "      <td>...</td>\n",
              "      <td>...</td>\n",
              "      <td>...</td>\n",
              "      <td>...</td>\n",
              "      <td>...</td>\n",
              "    </tr>\n",
              "    <tr>\n",
              "      <th>1793</th>\n",
              "      <td>132278</td>\n",
              "      <td>Ativan</td>\n",
              "      <td>Insomnia</td>\n",
              "      <td>\"I was given Ativan for occasional use. I try ...</td>\n",
              "      <td>9-Aug-14</td>\n",
              "      <td>176</td>\n",
              "      <td>Moderate Side Effects</td>\n",
              "      <td>5</td>\n",
              "    </tr>\n",
              "    <tr>\n",
              "      <th>1794</th>\n",
              "      <td>126842</td>\n",
              "      <td>Erythromycin</td>\n",
              "      <td>Upper Respiratory Tract Infection</td>\n",
              "      <td>\"This antibiotic is the best, hands down.  The...</td>\n",
              "      <td>26-Mar-16</td>\n",
              "      <td>8</td>\n",
              "      <td>Severe Side Effects</td>\n",
              "      <td>1</td>\n",
              "    </tr>\n",
              "    <tr>\n",
              "      <th>1795</th>\n",
              "      <td>68153</td>\n",
              "      <td>Plan B</td>\n",
              "      <td>Emergency Contraception</td>\n",
              "      <td>\"I took this pill on June 16th 2015. I was rea...</td>\n",
              "      <td>12-Aug-15</td>\n",
              "      <td>2</td>\n",
              "      <td>Extremely Severe Side Effects</td>\n",
              "      <td>5</td>\n",
              "    </tr>\n",
              "    <tr>\n",
              "      <th>1796</th>\n",
              "      <td>126865</td>\n",
              "      <td>Dilaudid</td>\n",
              "      <td>Pain</td>\n",
              "      <td>\"I developed severe pancreatitis and hepatitis...</td>\n",
              "      <td>2-Feb-10</td>\n",
              "      <td>58</td>\n",
              "      <td>Mild Side Effects</td>\n",
              "      <td>5</td>\n",
              "    </tr>\n",
              "    <tr>\n",
              "      <th>1797</th>\n",
              "      <td>40841</td>\n",
              "      <td>Leuprolide</td>\n",
              "      <td>Endometriosis</td>\n",
              "      <td>\"lupron is not for everyone! I must admit I wa...</td>\n",
              "      <td>26-Aug-15</td>\n",
              "      <td>17</td>\n",
              "      <td>Moderate Side Effects</td>\n",
              "      <td>5</td>\n",
              "    </tr>\n",
              "  </tbody>\n",
              "</table>\n",
              "<p>1798 rows × 8 columns</p>\n",
              "</div>\n",
              "      <button class=\"colab-df-convert\" onclick=\"convertToInteractive('df-653c7a81-bf14-453d-baee-28e49a95b292')\"\n",
              "              title=\"Convert this dataframe to an interactive table.\"\n",
              "              style=\"display:none;\">\n",
              "        \n",
              "  <svg xmlns=\"http://www.w3.org/2000/svg\" height=\"24px\"viewBox=\"0 0 24 24\"\n",
              "       width=\"24px\">\n",
              "    <path d=\"M0 0h24v24H0V0z\" fill=\"none\"/>\n",
              "    <path d=\"M18.56 5.44l.94 2.06.94-2.06 2.06-.94-2.06-.94-.94-2.06-.94 2.06-2.06.94zm-11 1L8.5 8.5l.94-2.06 2.06-.94-2.06-.94L8.5 2.5l-.94 2.06-2.06.94zm10 10l.94 2.06.94-2.06 2.06-.94-2.06-.94-.94-2.06-.94 2.06-2.06.94z\"/><path d=\"M17.41 7.96l-1.37-1.37c-.4-.4-.92-.59-1.43-.59-.52 0-1.04.2-1.43.59L10.3 9.45l-7.72 7.72c-.78.78-.78 2.05 0 2.83L4 21.41c.39.39.9.59 1.41.59.51 0 1.02-.2 1.41-.59l7.78-7.78 2.81-2.81c.8-.78.8-2.07 0-2.86zM5.41 20L4 18.59l7.72-7.72 1.47 1.35L5.41 20z\"/>\n",
              "  </svg>\n",
              "      </button>\n",
              "      \n",
              "  <style>\n",
              "    .colab-df-container {\n",
              "      display:flex;\n",
              "      flex-wrap:wrap;\n",
              "      gap: 12px;\n",
              "    }\n",
              "\n",
              "    .colab-df-convert {\n",
              "      background-color: #E8F0FE;\n",
              "      border: none;\n",
              "      border-radius: 50%;\n",
              "      cursor: pointer;\n",
              "      display: none;\n",
              "      fill: #1967D2;\n",
              "      height: 32px;\n",
              "      padding: 0 0 0 0;\n",
              "      width: 32px;\n",
              "    }\n",
              "\n",
              "    .colab-df-convert:hover {\n",
              "      background-color: #E2EBFA;\n",
              "      box-shadow: 0px 1px 2px rgba(60, 64, 67, 0.3), 0px 1px 3px 1px rgba(60, 64, 67, 0.15);\n",
              "      fill: #174EA6;\n",
              "    }\n",
              "\n",
              "    [theme=dark] .colab-df-convert {\n",
              "      background-color: #3B4455;\n",
              "      fill: #D2E3FC;\n",
              "    }\n",
              "\n",
              "    [theme=dark] .colab-df-convert:hover {\n",
              "      background-color: #434B5C;\n",
              "      box-shadow: 0px 1px 3px 1px rgba(0, 0, 0, 0.15);\n",
              "      filter: drop-shadow(0px 1px 2px rgba(0, 0, 0, 0.3));\n",
              "      fill: #FFFFFF;\n",
              "    }\n",
              "  </style>\n",
              "\n",
              "      <script>\n",
              "        const buttonEl =\n",
              "          document.querySelector('#df-653c7a81-bf14-453d-baee-28e49a95b292 button.colab-df-convert');\n",
              "        buttonEl.style.display =\n",
              "          google.colab.kernel.accessAllowed ? 'block' : 'none';\n",
              "\n",
              "        async function convertToInteractive(key) {\n",
              "          const element = document.querySelector('#df-653c7a81-bf14-453d-baee-28e49a95b292');\n",
              "          const dataTable =\n",
              "            await google.colab.kernel.invokeFunction('convertToInteractive',\n",
              "                                                     [key], {});\n",
              "          if (!dataTable) return;\n",
              "\n",
              "          const docLinkHtml = 'Like what you see? Visit the ' +\n",
              "            '<a target=\"_blank\" href=https://colab.research.google.com/notebooks/data_table.ipynb>data table notebook</a>'\n",
              "            + ' to learn more about interactive tables.';\n",
              "          element.innerHTML = '';\n",
              "          dataTable['output_type'] = 'display_data';\n",
              "          await google.colab.output.renderOutput(dataTable, element);\n",
              "          const docLink = document.createElement('div');\n",
              "          docLink.innerHTML = docLinkHtml;\n",
              "          element.appendChild(docLink);\n",
              "        }\n",
              "      </script>\n",
              "    </div>\n",
              "  </div>\n",
              "  "
            ]
          },
          "metadata": {},
          "execution_count": 92
        }
      ]
    },
    {
      "cell_type": "code",
      "source": [
        "test_data.to_csv('result.csv', index=False)"
      ],
      "metadata": {
        "id": "CY-_Uus50RP-"
      },
      "id": "CY-_Uus50RP-",
      "execution_count": 96,
      "outputs": []
    },
    {
      "cell_type": "code",
      "source": [
        "from google.colab import files"
      ],
      "metadata": {
        "id": "n1jANnbr0YkQ"
      },
      "id": "n1jANnbr0YkQ",
      "execution_count": 94,
      "outputs": []
    },
    {
      "cell_type": "code",
      "source": [
        "files.download('result.csv')"
      ],
      "metadata": {
        "colab": {
          "base_uri": "https://localhost:8080/",
          "height": 17
        },
        "id": "urUwGxBH0fEm",
        "outputId": "94b19dde-aed6-4f8b-c261-046a48bea6a8"
      },
      "id": "urUwGxBH0fEm",
      "execution_count": 97,
      "outputs": [
        {
          "output_type": "display_data",
          "data": {
            "text/plain": [
              "<IPython.core.display.Javascript object>"
            ],
            "application/javascript": [
              "\n",
              "    async function download(id, filename, size) {\n",
              "      if (!google.colab.kernel.accessAllowed) {\n",
              "        return;\n",
              "      }\n",
              "      const div = document.createElement('div');\n",
              "      const label = document.createElement('label');\n",
              "      label.textContent = `Downloading \"${filename}\": `;\n",
              "      div.appendChild(label);\n",
              "      const progress = document.createElement('progress');\n",
              "      progress.max = size;\n",
              "      div.appendChild(progress);\n",
              "      document.body.appendChild(div);\n",
              "\n",
              "      const buffers = [];\n",
              "      let downloaded = 0;\n",
              "\n",
              "      const channel = await google.colab.kernel.comms.open(id);\n",
              "      // Send a message to notify the kernel that we're ready.\n",
              "      channel.send({})\n",
              "\n",
              "      for await (const message of channel.messages) {\n",
              "        // Send a message to notify the kernel that we're ready.\n",
              "        channel.send({})\n",
              "        if (message.buffers) {\n",
              "          for (const buffer of message.buffers) {\n",
              "            buffers.push(buffer);\n",
              "            downloaded += buffer.byteLength;\n",
              "            progress.value = downloaded;\n",
              "          }\n",
              "        }\n",
              "      }\n",
              "      const blob = new Blob(buffers, {type: 'application/binary'});\n",
              "      const a = document.createElement('a');\n",
              "      a.href = window.URL.createObjectURL(blob);\n",
              "      a.download = filename;\n",
              "      div.appendChild(a);\n",
              "      a.click();\n",
              "      div.remove();\n",
              "    }\n",
              "  "
            ]
          },
          "metadata": {}
        },
        {
          "output_type": "display_data",
          "data": {
            "text/plain": [
              "<IPython.core.display.Javascript object>"
            ],
            "application/javascript": [
              "download(\"download_e70533ee-0a7e-417e-952b-21bd922aabe7\", \"result.csv\", 968468)"
            ]
          },
          "metadata": {}
        }
      ]
    }
  ],
  "metadata": {
    "kernelspec": {
      "display_name": "Python 3",
      "language": "python",
      "name": "python3"
    },
    "language_info": {
      "codemirror_mode": {
        "name": "ipython",
        "version": 3
      },
      "file_extension": ".py",
      "mimetype": "text/x-python",
      "name": "python",
      "nbconvert_exporter": "python",
      "pygments_lexer": "ipython3",
      "version": "3.8.8"
    },
    "colab": {
      "provenance": []
    },
    "accelerator": "GPU",
    "gpuClass": "standard"
  },
  "nbformat": 4,
  "nbformat_minor": 5
}